{
 "cells": [
  {
   "cell_type": "markdown",
   "metadata": {},
   "source": [
    "# Viterbi Processing"
   ]
  },
  {
   "cell_type": "markdown",
   "metadata": {},
   "source": [
    "#### Check log viterbi of the testing sets to see if it is in the range"
   ]
  },
  {
   "cell_type": "code",
   "execution_count": 1,
   "metadata": {},
   "outputs": [],
   "source": [
    "## Input:\n",
    "training_file = \"./OXTR_viterbi_training\" ## Input viterbi data from HMM\n",
    "testing_file = \"./OXTR_viterbi_testing\" ## Testing viterbi data from HMM\n",
    "\n",
    "## Output:\n",
    "log_viterbi_testing_file = \"./OXTR_log_viterbi_testing.fasta\" ## Output the log viterbi of the testing file\n",
    "log_viterbi_testing_file_with_output = \"./primate_log_viterbi_testing_out.fasta\"## Output the result"
   ]
  },
  {
   "cell_type": "markdown",
   "metadata": {},
   "source": [
    "## Support libraries"
   ]
  },
  {
   "cell_type": "code",
   "execution_count": 2,
   "metadata": {},
   "outputs": [],
   "source": [
    "#libs\n",
    "import pandas as pd\n",
    "from Bio import AlignIO\n",
    "from Bio import SeqIO\n",
    "from Bio import Phylo\n",
    "from sklearn.model_selection import train_test_split\n",
    "from bisect import bisect_left"
   ]
  },
  {
   "cell_type": "markdown",
   "metadata": {},
   "source": [
    "## Training set"
   ]
  },
  {
   "cell_type": "code",
   "execution_count": 3,
   "metadata": {},
   "outputs": [
    {
     "name": "stdout",
     "output_type": "stream",
     "text": [
      "Training size:  20\n"
     ]
    }
   ],
   "source": [
    "length_training = 0\n",
    "des = []\n",
    "with open(training_file) as handle:\n",
    "    for record in SeqIO.parse(handle, \"fasta\"):\n",
    "        des.append(record.description)\n",
    "        length_training = length_training + 1 \n",
    "print(\"Training size: \", length_training)"
   ]
  },
  {
   "cell_type": "code",
   "execution_count": 4,
   "metadata": {},
   "outputs": [],
   "source": [
    "scores_training = []\n",
    "for i in des:\n",
    "    split_string = i.split(\"=\", 1)\n",
    "    substring = split_string[1]\n",
    "    split_string = substring.split(\"_\", 1)\n",
    "    substring = split_string[0]\n",
    "    score = float(substring)\n",
    "    scores_training.append(score)"
   ]
  },
  {
   "cell_type": "code",
   "execution_count": 5,
   "metadata": {},
   "outputs": [
    {
     "data": {
      "text/plain": [
       "[-13.505550165546241,\n",
       " -10.175748823247558,\n",
       " -15.890452753421053,\n",
       " -11.454502412279107,\n",
       " -15.753575067847407,\n",
       " -11.074291153310236,\n",
       " -11.175748816776066,\n",
       " -10.647012991819068,\n",
       " -11.852442414479665,\n",
       " -10.522074237234412,\n",
       " -10.175748823247558,\n",
       " -10.175748823247558,\n",
       " -11.925766580850727,\n",
       " -24.34832377595867,\n",
       " -15.179186461109301,\n",
       " -18.800142442405008,\n",
       " -13.281982449350739,\n",
       " -16.08936715455976,\n",
       " -15.745888255211144,\n",
       " -17.169206342452558]"
      ]
     },
     "execution_count": 5,
     "metadata": {},
     "output_type": "execute_result"
    }
   ],
   "source": [
    "scores_training"
   ]
  },
  {
   "cell_type": "code",
   "execution_count": 6,
   "metadata": {},
   "outputs": [
    {
     "name": "stdout",
     "output_type": "stream",
     "text": [
      "Training sets viterbi\n",
      "Max Viterbi:  -10.175748823247558\n",
      "Min Viterbi:  -24.34832377595867\n"
     ]
    }
   ],
   "source": [
    "# find min max for training set\n",
    "maxViterbi = max(scores_training)\n",
    "maxViterbi\n",
    "minViterbi = min(scores_training)\n",
    "minViterbi\n",
    "print(\"Training sets viterbi\")\n",
    "print(\"Max Viterbi: \", maxViterbi)\n",
    "print(\"Min Viterbi: \", minViterbi)"
   ]
  },
  {
   "cell_type": "markdown",
   "metadata": {},
   "source": [
    "## Testing set"
   ]
  },
  {
   "cell_type": "code",
   "execution_count": 7,
   "metadata": {},
   "outputs": [
    {
     "name": "stdout",
     "output_type": "stream",
     "text": [
      "Testing size:  5\n"
     ]
    }
   ],
   "source": [
    "length_testing = 0\n",
    "des_testing = []\n",
    "with open(testing_file) as handle:\n",
    "    for record in SeqIO.parse(handle, \"fasta\"):\n",
    "        des_testing.append(record.description)\n",
    "        length_testing = length_testing + 1\n",
    "print(\"Testing size: \", length_testing)"
   ]
  },
  {
   "cell_type": "code",
   "execution_count": 8,
   "metadata": {},
   "outputs": [],
   "source": [
    "# Get score\n",
    "scores_testing = []\n",
    "for i in des_testing:\n",
    "    split_string = i.split(\"=\", 1)\n",
    "    substring = split_string[1]\n",
    "    split_string = substring.split(\"_\", 1)\n",
    "    substring = split_string[0]\n",
    "    score = float(substring)\n",
    "    scores_testing.append(score)"
   ]
  },
  {
   "cell_type": "code",
   "execution_count": 9,
   "metadata": {},
   "outputs": [
    {
     "data": {
      "text/plain": [
       "[-19.81947906928411,\n",
       " -19.027963863397595,\n",
       " -10.522074237234412,\n",
       " -15.902729537845085,\n",
       " -17.95769928266878]"
      ]
     },
     "execution_count": 9,
     "metadata": {},
     "output_type": "execute_result"
    }
   ],
   "source": [
    "scores_testing"
   ]
  },
  {
   "cell_type": "code",
   "execution_count": 10,
   "metadata": {},
   "outputs": [
    {
     "data": {
      "text/plain": [
       "['XP_003927162.1',\n",
       " 'XP_017357089.1',\n",
       " 'XP_032005459.1',\n",
       " 'XP_002813528.1',\n",
       " 'ALO75878.1']"
      ]
     },
     "execution_count": 10,
     "metadata": {},
     "output_type": "execute_result"
    }
   ],
   "source": [
    "# Get name\n",
    "name_testing = []\n",
    "for i in des_testing:\n",
    "    split_string = i.split(\"__\", 1)\n",
    "    substring = split_string[1]\n",
    "    split_string = substring.split(\" \", 1)\n",
    "    substring = split_string[0]\n",
    "    name_testing.append(substring)\n",
    "name_testing"
   ]
  },
  {
   "cell_type": "code",
   "execution_count": 11,
   "metadata": {},
   "outputs": [],
   "source": [
    "#Convert X_test these into a fasta file script\n",
    "original_file = testing_file\n",
    "corrected_file = log_viterbi_testing_file\n",
    "with open(original_file) as original, open(corrected_file, 'w') as corrected:\n",
    "    records = SeqIO.parse(original_file, 'fasta')\n",
    "    for (record,score,name) in zip (records,scores_testing,name_testing):\n",
    "        record.id = name\n",
    "        record.description = str(score)\n",
    "        SeqIO.write(record, corrected, 'fasta')"
   ]
  },
  {
   "cell_type": "markdown",
   "metadata": {},
   "source": [
    "### Check the viterbi if it is in the range"
   ]
  },
  {
   "cell_type": "code",
   "execution_count": 12,
   "metadata": {},
   "outputs": [],
   "source": [
    "#helper function for viterbi check\n",
    "def check_viterbi(input,min,max):\n",
    "    if (input<min):\n",
    "        print(\"Less than min, not in range\")\n",
    "    elif (input>max):\n",
    "        print(\"More than man, not in range\")\n",
    "    else:\n",
    "        print(\"Within the Training Viterbi range\")"
   ]
  },
  {
   "cell_type": "code",
   "execution_count": 13,
   "metadata": {},
   "outputs": [
    {
     "name": "stdout",
     "output_type": "stream",
     "text": [
      "Viterbi range: min: -24.34832377595867  to max:  -10.175748823247558\n",
      "Sequence check:  XP_003927162.1\n",
      "Sequence viterbi score:  -19.81947906928411\n",
      "Within the Training Viterbi range\n",
      "Sequence check:  XP_017357089.1\n",
      "Sequence viterbi score:  -19.027963863397595\n",
      "Within the Training Viterbi range\n",
      "Sequence check:  XP_032005459.1\n",
      "Sequence viterbi score:  -10.522074237234412\n",
      "Within the Training Viterbi range\n",
      "Sequence check:  XP_002813528.1\n",
      "Sequence viterbi score:  -15.902729537845085\n",
      "Within the Training Viterbi range\n",
      "Sequence check:  ALO75878.1\n",
      "Sequence viterbi score:  -17.95769928266878\n",
      "Within the Training Viterbi range\n"
     ]
    }
   ],
   "source": [
    "#Check the viterbi if it is in the range\n",
    "print(\"Viterbi range: min:\", minViterbi, \" to max: \", maxViterbi)\n",
    "with open(log_viterbi_testing_file) as handle:\n",
    "    for record in SeqIO.parse(handle, \"fasta\"):\n",
    "        print(\"Sequence check: \", record.id)\n",
    "        split_string = record.description.split(\" \", 1)\n",
    "        viterbi_score = float(split_string[1])\n",
    "        print(\"Sequence viterbi score: \", viterbi_score)\n",
    "        check_viterbi(viterbi_score,minViterbi,maxViterbi)\n",
    "        des_testing.append(record.description)"
   ]
  },
  {
   "cell_type": "markdown",
   "metadata": {},
   "source": [
    "### Check Viterbi score of the testing file to see if it is in the Viterbi range of input file or not"
   ]
  },
  {
   "cell_type": "code",
   "execution_count": 14,
   "metadata": {},
   "outputs": [],
   "source": [
    "#helper function for viterbi check\n",
    "def check_viterbi_output(input,min,max):\n",
    "    if (input<min):\n",
    "        return False\n",
    "    elif (input>max):\n",
    "        return False\n",
    "    else:\n",
    "        return True"
   ]
  },
  {
   "cell_type": "code",
   "execution_count": 15,
   "metadata": {},
   "outputs": [
    {
     "name": "stdout",
     "output_type": "stream",
     "text": [
      "XP_003927162.1 -19.81947906928411 Yes\n",
      "XP_017357089.1 -19.027963863397595 Yes\n",
      "XP_032005459.1 -10.522074237234412 Yes\n",
      "XP_002813528.1 -15.902729537845085 Yes\n",
      "ALO75878.1 -17.95769928266878 Yes\n"
     ]
    }
   ],
   "source": [
    "#Check inputs viterbi and output results\n",
    "original_file = log_viterbi_testing_file\n",
    "corrected_file = log_viterbi_testing_file_with_output\n",
    "with open(original_file) as original, open(corrected_file, 'w') as corrected:\n",
    "    records = SeqIO.parse(original_file, 'fasta')\n",
    "    for record in records:\n",
    "        split_string = record.description.split(\" \", 1)\n",
    "        viterbi_score = float(split_string[1])\n",
    "        if check_viterbi_output(viterbi_score,minViterbi,maxViterbi):\n",
    "            record.description = record.description + \" Yes\"\n",
    "            print(record.description)\n",
    "        else:\n",
    "            record.description = record.description + \" No\"\n",
    "            print(record.description)\n",
    "        SeqIO.write(record, corrected, 'fasta')"
   ]
  },
  {
   "cell_type": "code",
   "execution_count": null,
   "metadata": {},
   "outputs": [],
   "source": []
  }
 ],
 "metadata": {
  "kernelspec": {
   "display_name": "Python 3",
   "language": "python",
   "name": "python3"
  },
  "language_info": {
   "codemirror_mode": {
    "name": "ipython",
    "version": 3
   },
   "file_extension": ".py",
   "mimetype": "text/x-python",
   "name": "python",
   "nbconvert_exporter": "python",
   "pygments_lexer": "ipython3",
   "version": "3.8.5"
  }
 },
 "nbformat": 4,
 "nbformat_minor": 4
}
