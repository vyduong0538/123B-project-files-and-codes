{
 "cells": [
  {
   "cell_type": "markdown",
   "metadata": {},
   "source": [
    "# Data processing"
   ]
  },
  {
   "cell_type": "markdown",
   "metadata": {},
   "source": [
    "#### 1. Check if all sequences are unique, and output a file with unique sequence\n",
    "#### 2. Only take sequence with decription of \"oxytocin receptor\", output a file with only oxytocin receptor sequence in description\n",
    "#### 3. If there is more than 25 sequences in the file, output a file with only 25 sequences"
   ]
  },
  {
   "cell_type": "code",
   "execution_count": 1,
   "metadata": {},
   "outputs": [],
   "source": [
    "## Input:\n",
    "gene_original_file = \"./OXTR_primate.fasta\"\n",
    "gene_name = \"oxytocin receptor\"\n",
    "max_number_sequences = 25\n",
    "max_wanted_length = 400\n",
    "## Output:\n",
    "unique_id_file = \"./OXTR_primate_unique_id.fasta\"\n",
    "unique_file = \"./OXTR_primate_unique.fasta\"\n",
    "gene_name_only_file = \"./OXTR_primate_only.fasta\"\n",
    "under_max_length_sequence_file = \"./OXTR_primate_under_max.fasta\"\n",
    "max_number_sequences_file = \"./OXTR_primate_edited.fasta\" #Final output file\n",
    "## Set default original file\n",
    "original_file = gene_original_file"
   ]
  },
  {
   "cell_type": "markdown",
   "metadata": {},
   "source": [
    "#### Every block of code has it own call for file name to help the reader keeps track of the file easier\n",
    "#### The code will try to Parsing a fasta file without having to place it in memory \n",
    "#### For fast input and output, please use the code from \"clade process\""
   ]
  },
  {
   "cell_type": "markdown",
   "metadata": {},
   "source": [
    "### Support library"
   ]
  },
  {
   "cell_type": "code",
   "execution_count": 2,
   "metadata": {},
   "outputs": [],
   "source": [
    "#libs\n",
    "from Bio import SeqIO"
   ]
  },
  {
   "cell_type": "markdown",
   "metadata": {},
   "source": [
    "### 1. Sequence uniqueness check"
   ]
  },
  {
   "cell_type": "code",
   "execution_count": 3,
   "metadata": {},
   "outputs": [
    {
     "name": "stdout",
     "output_type": "stream",
     "text": [
      "The maximum length of the sequence:  598\n",
      "The numbers of the sequence:  95\n"
     ]
    }
   ],
   "source": [
    "## Take the max length of the sequences\n",
    "maxlen = 0 ## Max sequence length\n",
    "total_sequence = 0 ## Counter for sequences\n",
    "with open(original_file) as handle:\n",
    "    for record in SeqIO.parse(handle, \"fasta\"):\n",
    "        total_sequence = total_sequence + 1\n",
    "        if (maxlen < len(record.seq)):\n",
    "            maxlen = len(record.seq)\n",
    "print(\"The maximum length of the sequence: \",maxlen)\n",
    "print(\"The numbers of the sequence: \",total_sequence)"
   ]
  },
  {
   "cell_type": "code",
   "execution_count": 4,
   "metadata": {},
   "outputs": [],
   "source": [
    "## Check duplicate helper\n",
    "def duplicate_check(a):\n",
    "    if len(a) == len(set(a)):\n",
    "        return False\n",
    "    else:\n",
    "        return True"
   ]
  },
  {
   "cell_type": "code",
   "execution_count": 5,
   "metadata": {},
   "outputs": [
    {
     "name": "stdout",
     "output_type": "stream",
     "text": [
      "No duplicate, all sequences in the file are unique\n"
     ]
    }
   ],
   "source": [
    "## Check sequence uniqueness\n",
    "sequences = [] ## Store all sequences in the list\n",
    "total_sequence = 0 ## Counter for sequences\n",
    "with open(original_file) as handle:\n",
    "    for record in SeqIO.parse(handle, \"fasta\"):\n",
    "        sequences.append(record.id)\n",
    "        total_sequence = total_sequence + 1\n",
    "        \n",
    "if duplicate_check(sequences):\n",
    "    print(\"There are duplicates\")\n",
    "else:\n",
    "    print(\"No duplicate, all sequences in the file are unique\")"
   ]
  },
  {
   "cell_type": "code",
   "execution_count": 6,
   "metadata": {},
   "outputs": [],
   "source": [
    "## Here is the code to get the duplicate sequence\n",
    "def duplicate_get(input_list, duplicate_list):   \n",
    "    for item in input_list:\n",
    "        if input_list.count(item) > 1:\n",
    "            duplicate_list.append(item)"
   ]
  },
  {
   "cell_type": "code",
   "execution_count": 7,
   "metadata": {},
   "outputs": [
    {
     "name": "stdout",
     "output_type": "stream",
     "text": [
      "ID of Sequence that has duplicates: \n",
      "[]\n"
     ]
    }
   ],
   "source": [
    "duplicate_sequences = []\n",
    "duplicate_get(sequences,duplicate_sequences)\n",
    "duplicate_sequences = list(set(duplicate_sequences))\n",
    "print(\"ID of Sequence that has duplicates: \")\n",
    "print(duplicate_sequences)"
   ]
  },
  {
   "cell_type": "code",
   "execution_count": 8,
   "metadata": {},
   "outputs": [
    {
     "name": "stdout",
     "output_type": "stream",
     "text": [
      "ID of unique sequence: \n",
      "['NP_001341583.1', 'NP_001341584.1', 'NP_001341582.1', 'NP_001341585.1', 'NP_000907.2', 'XP_003927162.1', 'sp|P30559.2|OXYR_HUMAN', 'sp|P56494.1|OXYR_MACMU', 'XP_017357089.1', 'NP_001038197.1', 'XP_017820536.1', 'NP_001306474.1', 'XP_033066419.1', 'XP_033066418.1', 'XP_033066417.1', 'XP_033066416.1', 'XP_033066415.1', 'XP_032005459.1', 'XP_032005458.1', 'XP_032005457.1', 'XP_032005456.1', 'XP_032146435.1', 'XP_023074158.2', 'XP_023074157.2', 'XP_023074156.2', 'XP_023074155.2', 'XP_023074154.2', 'XP_021789912.2', 'XP_030865378.1', 'XP_030865377.1', 'XP_030865376.1', 'XP_030865375.1', 'XP_030783150.1', 'XP_030783149.1', 'XP_030783146.1', 'XP_030783144.1', 'XP_010368206.1', 'XP_030657673.1', 'XP_028699019.1', 'XP_025233450.1', 'XP_025233449.1', 'XP_025233448.1', 'XP_025233447.1', 'XP_025233446.1', 'XP_024647262.1', 'XP_011732511.1', 'XP_016795834.1', 'XP_001144020.1', 'XP_002813528.1', 'PNJ67985.1', 'PNI53102.1', 'XP_003785518.1', 'XP_012326503.1', 'XP_012326495.1', 'XP_012326491.1', 'XP_012326485.1', 'XP_020139810.1', 'XP_017729648.1', 'ALO75882.1', 'ALO75881.1', 'ALO75880.1', 'ALO75879.1', 'ALO75878.1', 'ALO75877.1', 'ALO75876.1', 'ALO75875.1', 'ALO75874.1', 'ALO75873.1', 'ALO75872.1', 'ALO75871.1', 'ALO75870.1', 'ALO75869.1', 'ALO75868.1', 'ALO75867.1', 'ALO75866.1', 'ALO75865.1', 'ALO75864.1', 'ALO75863.1', 'ALO75862.1', 'ALO75861.1', 'XP_012502162.1', 'XP_011915361.1', 'XP_011915360.1', 'XP_011915359.1', 'XP_011915358.1', 'XP_011816667.1', 'XP_011856027.1', 'EAW63947.1', 'EHH51162.1', 'EHH16201.1', 'AAI37444.1', 'AEA41963.1', 'ADO79881.1', 'AAC52031.1', 'BAG36564.1']\n"
     ]
    }
   ],
   "source": [
    "## take out duplicate and get unique sequences\n",
    "unique_sequences =[]\n",
    "[unique_sequences.append(item) for item in sequences if item not in unique_sequences]\n",
    "print(\"ID of unique sequence: \")\n",
    "print(unique_sequences)"
   ]
  },
  {
   "cell_type": "code",
   "execution_count": 9,
   "metadata": {},
   "outputs": [],
   "source": [
    "### Script to take out all duplicates sequences and convert it into a new file with all unique sequences by ID\n",
    "original_file = gene_original_file\n",
    "corrected_file = unique_id_file\n",
    "with open(original_file) as original, open(corrected_file, 'w') as corrected:\n",
    "    records = SeqIO.parse(original_file, 'fasta')\n",
    "    for sequence in unique_sequences:\n",
    "        for record in records:\n",
    "            if (sequence == record.id):\n",
    "                SeqIO.write(record, corrected, 'fasta')\n",
    "                break"
   ]
  },
  {
   "cell_type": "code",
   "execution_count": 10,
   "metadata": {},
   "outputs": [],
   "source": [
    "sequences_unique_id = [] ## Store all sequences in the list\n",
    "with open(unique_id_file) as handle:\n",
    "    for record in SeqIO.parse(handle, \"fasta\"):\n",
    "        sequences_unique_id.append(record.description)"
   ]
  },
  {
   "cell_type": "code",
   "execution_count": 11,
   "metadata": {},
   "outputs": [],
   "source": [
    "def get_name (listI,listO):\n",
    "    for i in listI:\n",
    "        if \"[\" in i:\n",
    "            split_string = i.split(\"[\", 1)\n",
    "            substring = split_string[1]\n",
    "            split_string = substring.split(\"]\", 1)\n",
    "            substring = split_string[0]\n",
    "            listO.append(substring)"
   ]
  },
  {
   "cell_type": "code",
   "execution_count": 12,
   "metadata": {},
   "outputs": [],
   "source": [
    "sequence_species = []\n",
    "get_name(sequences_unique_id,sequence_species)"
   ]
  },
  {
   "cell_type": "code",
   "execution_count": 13,
   "metadata": {},
   "outputs": [
    {
     "name": "stdout",
     "output_type": "stream",
     "text": [
      "name of unique sequence: \n",
      "['Homo sapiens', 'Saimiri boliviensis boliviensis', 'Cebus imitator', 'Macaca mulatta', 'Callithrix jacchus', 'Macaca fascicularis', 'Trachypithecus francoisi', 'Hylobates moloch', 'Sapajus apella', 'Piliocolobus tephrosceles', 'Papio anubis', 'Gorilla gorilla gorilla', 'Rhinopithecus roxellana', 'Nomascus leucogenys', 'Theropithecus gelada', 'Macaca nemestrina', 'Pan troglodytes', 'Pongo abelii', 'Otolemur garnettii', 'Aotus nancymaae', 'Microcebus murinus', 'Rhinopithecus bieti', 'Saimiri sciureus', 'Aotus azarai', 'Saguinus midas', 'Leontopithecus rosalia', 'Callimico goeldii', 'Callithrix penicillata', 'Callithrix kuhlii', 'Callithrix geoffroyi', 'Callithrix sp.', 'Callithrix pygmaea', 'Cacajao calvus', 'Chiropotes chiropotes', 'Pithecia pithecia', 'Plecturocebus cupreus', 'Ateles belzebuth', 'Ateles geoffroyi', 'Alouatta caraya', 'Lagothrix poeppigii', 'Lagothrix lagotricha', 'Brachyteles hypoxanthus', 'Propithecus coquereli', 'Cercocebus atys', 'Colobus angolensis palliatus', 'Mandrillus leucophaeus']\n"
     ]
    }
   ],
   "source": [
    "unique_sequences_species = []\n",
    "[unique_sequences_species.append(item) for item in sequence_species if item not in unique_sequences_species]\n",
    "print(\"name of unique sequence: \")\n",
    "print(unique_sequences_species)"
   ]
  },
  {
   "cell_type": "code",
   "execution_count": 14,
   "metadata": {},
   "outputs": [],
   "source": [
    "### Script to take out all duplicates sequences and convert it into a new file with all unique sequences by name\n",
    "original_file = unique_id_file\n",
    "corrected_file = unique_file\n",
    "with open(original_file) as original, open(corrected_file, 'w') as corrected:\n",
    "    records = SeqIO.parse(original_file, 'fasta')\n",
    "    for sequence in unique_sequences_species:\n",
    "        for record in records:\n",
    "            if \"[\" in record.description:\n",
    "                split_string = record.description.split(\"[\", 1)\n",
    "                substring = split_string[1]\n",
    "                split_string = substring.split(\"]\", 1)\n",
    "                substring = split_string[0]\n",
    "            if (sequence == substring):\n",
    "                SeqIO.write(record, corrected, 'fasta')\n",
    "                break"
   ]
  },
  {
   "cell_type": "code",
   "execution_count": 15,
   "metadata": {},
   "outputs": [
    {
     "name": "stdout",
     "output_type": "stream",
     "text": [
      "The maximum length of the unique sequence by id:  598\n",
      "The numbers of the sequence:  46\n",
      "No duplicate, all sequences in the file are unique\n"
     ]
    }
   ],
   "source": [
    "## Check output \"unique_file\" sequence uniqueness\n",
    "file = unique_file\n",
    "maxlen = 0\n",
    "sequence_check = [] ## Store all sequences in the list\n",
    "total_sequence = 0 ## Counter for sequences\n",
    "with open(file) as handle:\n",
    "    for record in SeqIO.parse(handle, \"fasta\"):\n",
    "        sequence_check.append(record.id)\n",
    "        total_sequence = total_sequence + 1\n",
    "        if (maxlen < len(record.seq)):\n",
    "            maxlen = len(record.seq)\n",
    "print(\"The maximum length of the unique sequence by id: \",maxlen)\n",
    "print(\"The numbers of the sequence: \",total_sequence)\n",
    "if duplicate_check(sequence_check):\n",
    "    print(\"There are duplicates\")\n",
    "else:\n",
    "    print(\"No duplicate, all sequences in the file are unique\")"
   ]
  },
  {
   "cell_type": "code",
   "execution_count": 16,
   "metadata": {},
   "outputs": [],
   "source": [
    "sequences_from_unique_file = [] ## Store all sequences in the list\n",
    "with open(unique_file) as handle:\n",
    "    for record in SeqIO.parse(handle, \"fasta\"):\n",
    "        sequences_from_unique_file.append(record.description)"
   ]
  },
  {
   "cell_type": "code",
   "execution_count": 17,
   "metadata": {},
   "outputs": [],
   "source": [
    "#Take out predicted\n",
    "sequences_gene_name = []\n",
    "for i in sequences_from_unique_file:\n",
    "        if \"PREDICTED\" in i:\n",
    "            continue\n",
    "        else:\n",
    "            if gene_name in i:\n",
    "                split_string = i.split(\" \", 1)\n",
    "                substring = split_string[1]\n",
    "                split_string = substring.split(\"[\", 1)\n",
    "                substring = split_string[0]\n",
    "                if (len(substring) - len(gene_name) -1 == 0):\n",
    "                    sequences_gene_name.append(i)"
   ]
  },
  {
   "cell_type": "code",
   "execution_count": 18,
   "metadata": {},
   "outputs": [],
   "source": [
    "### Script to get the gene_name only file\n",
    "original_file = unique_file\n",
    "corrected_file = gene_name_only_file\n",
    "with open(original_file) as original, open(corrected_file, 'w') as corrected:\n",
    "    records = SeqIO.parse(original_file, 'fasta')\n",
    "    for sequence in sequences_gene_name:\n",
    "        for record in records:\n",
    "            if (sequence == record.description):\n",
    "                SeqIO.write(record, corrected, 'fasta')\n",
    "                break"
   ]
  },
  {
   "cell_type": "code",
   "execution_count": 19,
   "metadata": {},
   "outputs": [
    {
     "name": "stdout",
     "output_type": "stream",
     "text": [
      "The maximum length of the unique sequence by id:  598\n",
      "The numbers of the sequence:  40\n",
      "No duplicate, all sequences in the file are unique\n"
     ]
    }
   ],
   "source": [
    "## Check output \"gene_name_only_file\" sequence uniqueness\n",
    "file = gene_name_only_file\n",
    "maxlen = 0\n",
    "sequence_check = [] ## Store all sequences in the list\n",
    "total_sequence = 0 ## Counter for sequences\n",
    "with open(file) as handle:\n",
    "    for record in SeqIO.parse(handle, \"fasta\"):\n",
    "        sequence_check.append(record.id)\n",
    "        total_sequence = total_sequence + 1\n",
    "        if (maxlen < len(record.seq)):\n",
    "            maxlen = len(record.seq)\n",
    "print(\"The maximum length of the unique sequence by id: \",maxlen)\n",
    "print(\"The numbers of the sequence: \",total_sequence)\n",
    "\n",
    "if duplicate_check(sequence_check):\n",
    "    print(\"There are duplicates\")\n",
    "else:\n",
    "    print(\"No duplicate, all sequences in the file are unique\")"
   ]
  },
  {
   "cell_type": "code",
   "execution_count": 20,
   "metadata": {},
   "outputs": [],
   "source": [
    "## Take out sequence that longer than desier max length\n",
    "max_length = max_wanted_length\n",
    "original_file = gene_name_only_file\n",
    "corrected_file = under_max_length_sequence_file\n",
    "with open(original_file) as original, open(corrected_file, 'w') as corrected:\n",
    "    records = SeqIO.parse(original_file, 'fasta')\n",
    "    for record in records:\n",
    "        if (len(record.seq)<max_length):\n",
    "            SeqIO.write(record, corrected, 'fasta')"
   ]
  },
  {
   "cell_type": "code",
   "execution_count": 21,
   "metadata": {},
   "outputs": [
    {
     "name": "stdout",
     "output_type": "stream",
     "text": [
      "The maximum length of the unique sequence by id:  389\n",
      "The numbers of the sequence:  39\n",
      "No duplicate, all sequences in the file are unique\n"
     ]
    }
   ],
   "source": [
    "## Check output \"max_number_sequences_file\" sequence uniqueness\n",
    "file = under_max_length_sequence_file\n",
    "maxlen = 0\n",
    "sequence_check = [] ## Store all sequences in the list\n",
    "total_sequence = 0 ## Counter for sequences\n",
    "with open(file) as handle:\n",
    "    for record in SeqIO.parse(handle, \"fasta\"):\n",
    "        sequence_check.append(record.id)\n",
    "        total_sequence = total_sequence + 1\n",
    "        if (maxlen < len(record.seq)):\n",
    "            maxlen = len(record.seq)\n",
    "print(\"The maximum length of the unique sequence by id: \",maxlen)\n",
    "print(\"The numbers of the sequence: \",total_sequence)\n",
    "\n",
    "if duplicate_check(sequence_check):\n",
    "    print(\"There are duplicates\")\n",
    "else:\n",
    "    print(\"No duplicate, all sequences in the file are unique\")"
   ]
  },
  {
   "cell_type": "code",
   "execution_count": 22,
   "metadata": {},
   "outputs": [],
   "source": [
    "## Take only the wanted number of sequences:\n",
    "max_gene_count = max_number_sequences\n",
    "original_file = under_max_length_sequence_file\n",
    "corrected_file = max_number_sequences_file\n",
    "with open(original_file) as original, open(corrected_file, 'w') as corrected:\n",
    "    records = SeqIO.parse(original_file, 'fasta')\n",
    "    for record in records:\n",
    "        if (max_gene_count>0):\n",
    "            SeqIO.write(record, corrected, 'fasta')\n",
    "            max_gene_count = max_gene_count - 1\n",
    "        else: \n",
    "            break         "
   ]
  },
  {
   "cell_type": "code",
   "execution_count": 23,
   "metadata": {},
   "outputs": [
    {
     "name": "stdout",
     "output_type": "stream",
     "text": [
      "The maximum length of the unique sequence by id:  389\n",
      "The numbers of the sequence:  25\n",
      "No duplicate, all sequences in the file are unique\n"
     ]
    }
   ],
   "source": [
    "## Check final output file sequence uniqueness\n",
    "file = max_number_sequences_file\n",
    "maxlen = 0\n",
    "sequence_check = [] ## Store all sequences in the list\n",
    "total_sequence = 0 ## Counter for sequences\n",
    "with open(file) as handle:\n",
    "    for record in SeqIO.parse(handle, \"fasta\"):\n",
    "        sequence_check.append(record.id)\n",
    "        total_sequence = total_sequence + 1\n",
    "        if (maxlen < len(record.seq)):\n",
    "            maxlen = len(record.seq)\n",
    "print(\"The maximum length of the unique sequence by id: \",maxlen)\n",
    "print(\"The numbers of the sequence: \",total_sequence)\n",
    "\n",
    "if duplicate_check(sequence_check):\n",
    "    print(\"There are duplicates\")\n",
    "else:\n",
    "    print(\"No duplicate, all sequences in the file are unique\")"
   ]
  },
  {
   "cell_type": "code",
   "execution_count": null,
   "metadata": {},
   "outputs": [],
   "source": []
  }
 ],
 "metadata": {
  "kernelspec": {
   "display_name": "Python 3",
   "language": "python",
   "name": "python3"
  },
  "language_info": {
   "codemirror_mode": {
    "name": "ipython",
    "version": 3
   },
   "file_extension": ".py",
   "mimetype": "text/x-python",
   "name": "python",
   "nbconvert_exporter": "python",
   "pygments_lexer": "ipython3",
   "version": "3.8.5"
  }
 },
 "nbformat": 4,
 "nbformat_minor": 4
}
