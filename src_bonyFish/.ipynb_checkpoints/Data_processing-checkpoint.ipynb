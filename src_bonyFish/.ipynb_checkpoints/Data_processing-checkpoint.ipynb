{
 "cells": [
  {
   "cell_type": "markdown",
   "metadata": {},
   "source": [
    "# Data processing"
   ]
  },
  {
   "cell_type": "markdown",
   "metadata": {},
   "source": [
    "#### 1. Check if all sequences are unique, and output a file with unique sequence\n",
    "#### 2. Only take sequence with decription of \"oxytocin receptor\", output a file with only oxytocin receptor sequence in description\n",
    "#### 3. If there is more than 25 sequences in the file, output a file with only 25 sequences"
   ]
  },
  {
   "cell_type": "code",
   "execution_count": 1,
   "metadata": {},
   "outputs": [],
   "source": [
    "## Input:\n",
    "gene_original_file = \"./OXTR_bonyFish.fasta\"\n",
    "gene_name = \"oxytocin receptor\"\n",
    "max_number_sequences = 25\n",
    "max_wanted_length = 400\n",
    "## Output:\n",
    "unique_id_file = \"./OXTR_bonyFish_unique_id.fasta\"\n",
    "unique_file = \"./OXTR_bonyFish_unique.fasta\"\n",
    "gene_name_only_file = \"./OXTR_bonyFish_only.fasta\"\n",
    "under_max_length_sequence_file = \"./OXTR_boneyFish_under_max.fasta\"\n",
    "max_number_sequences_file = \"./OXTR_bonyFish_edited.fasta\" #Final output file\n",
    "## Set default original file\n",
    "original_file = gene_original_file"
   ]
  },
  {
   "cell_type": "markdown",
   "metadata": {},
   "source": [
    "#### Every block of code has it own call for file name to help the reader keeps track of the file easier\n",
    "#### The code will try to Parsing a fasta file without having to place it in memory \n",
    "#### For fast input and output, please use the code from \"clade process\""
   ]
  },
  {
   "cell_type": "markdown",
   "metadata": {},
   "source": [
    "### Support library"
   ]
  },
  {
   "cell_type": "code",
   "execution_count": 2,
   "metadata": {},
   "outputs": [],
   "source": [
    "#libs\n",
    "from Bio import SeqIO"
   ]
  },
  {
   "cell_type": "markdown",
   "metadata": {},
   "source": [
    "### 1. Sequence uniqueness check"
   ]
  },
  {
   "cell_type": "code",
   "execution_count": 3,
   "metadata": {},
   "outputs": [
    {
     "name": "stdout",
     "output_type": "stream",
     "text": [
      "The maximum length of the sequence:  947\n",
      "The numbers of the sequence:  216\n"
     ]
    }
   ],
   "source": [
    "## Take the max length of the sequences\n",
    "maxlen = 0 ## Max sequence length\n",
    "total_sequence = 0 ## Counter for sequences\n",
    "with open(original_file) as handle:\n",
    "    for record in SeqIO.parse(handle, \"fasta\"):\n",
    "        total_sequence = total_sequence + 1\n",
    "        if (maxlen < len(record.seq)):\n",
    "            maxlen = len(record.seq)\n",
    "print(\"The maximum length of the sequence: \",maxlen)\n",
    "print(\"The numbers of the sequence: \",total_sequence)"
   ]
  },
  {
   "cell_type": "code",
   "execution_count": 4,
   "metadata": {},
   "outputs": [],
   "source": [
    "## Check duplicate helper\n",
    "def duplicate_check(a):\n",
    "    if len(a) == len(set(a)):\n",
    "        return False\n",
    "    else:\n",
    "        return True"
   ]
  },
  {
   "cell_type": "code",
   "execution_count": 5,
   "metadata": {},
   "outputs": [
    {
     "name": "stdout",
     "output_type": "stream",
     "text": [
      "No duplicate, all sequences in the file are unique\n"
     ]
    }
   ],
   "source": [
    "## Check sequence uniqueness\n",
    "sequences = [] ## Store all sequences in the list\n",
    "total_sequence = 0 ## Counter for sequences\n",
    "with open(original_file) as handle:\n",
    "    for record in SeqIO.parse(handle, \"fasta\"):\n",
    "        sequences.append(record.id)\n",
    "        total_sequence = total_sequence + 1\n",
    "        \n",
    "if duplicate_check(sequences):\n",
    "    print(\"There are duplicates\")\n",
    "else:\n",
    "    print(\"No duplicate, all sequences in the file are unique\")"
   ]
  },
  {
   "cell_type": "code",
   "execution_count": 6,
   "metadata": {},
   "outputs": [],
   "source": [
    "## Here is the code to get the duplicate sequence\n",
    "def duplicate_get(input_list, duplicate_list):   \n",
    "    for item in input_list:\n",
    "        if input_list.count(item) > 1:\n",
    "            duplicate_list.append(item)"
   ]
  },
  {
   "cell_type": "code",
   "execution_count": 7,
   "metadata": {},
   "outputs": [
    {
     "name": "stdout",
     "output_type": "stream",
     "text": [
      "ID of Sequence that has duplicates: \n",
      "[]\n"
     ]
    }
   ],
   "source": [
    "duplicate_sequences = []\n",
    "duplicate_get(sequences,duplicate_sequences)\n",
    "duplicate_sequences = list(set(duplicate_sequences))\n",
    "print(\"ID of Sequence that has duplicates: \")\n",
    "print(duplicate_sequences)"
   ]
  },
  {
   "cell_type": "code",
   "execution_count": 8,
   "metadata": {},
   "outputs": [
    {
     "name": "stdout",
     "output_type": "stream",
     "text": [
      "ID of unique sequence: \n",
      "['NP_001186299.1', 'XP_031613004.1', 'XP_017271415.1', 'NP_001186298.1', 'XP_021466000.1', 'XP_021465666.1', 'XP_021424878.1', 'XP_021424474.1', 'XP_012719163.1', 'XP_031143641.1', 'XP_023136471.1', 'XP_006806769.1', 'XP_026853410.1', 'NP_001243561.1', 'XP_034169927.1', 'XP_026774982.1', 'XP_026774972.1', 'XP_019910791.1', 'XP_010896257.1', 'XP_010879624.1', 'XP_034079709.1', 'XP_034022503.1', 'XP_033939362.1', 'XP_033939302.1', 'XP_033994521.1', 'XP_033994465.1', 'XP_033822329.1', 'sp|Q90334.1|ITR_CATCO', 'XP_033482864.1', 'XP_033482863.1', 'XP_033481840.1', 'TMS19138.1', 'KAF4112490.1', 'KAF4112433.1', 'KAF4079174.1', 'XP_026205203.1', 'NP_001281111.1', 'XP_026163763.1', 'XP_026163035.1', 'KAF3856231.1', 'KAF3689821.1', 'XP_032406385.1', 'XP_032406286.1', 'XP_032370324.1', 'KAF0034964.1', 'XP_031711301.1', 'XP_020337837.1', 'XP_020337813.1', 'XP_020356088.1', 'XP_020352525.1', 'XP_031424296.1', 'XP_012680256.2', 'XP_012688667.1', 'KAE8298606.1', 'KAE8298476.1', 'KAB5584159.1', 'XP_030632577.1', 'XP_030632490.1', 'KAA0712832.1', 'KAA0712775.1', 'XP_030585847.1', 'XP_030277370.1', 'XP_030230454.1', 'TWW62137.1', 'XP_029991255.1', 'TVK90537.1', 'XP_029948462.1', 'XP_029947417.1', 'XP_029907764.1', 'XP_029907694.1', 'TRY92963.1', 'TRY89348.1', 'XP_029682825.1', 'XP_003973265.1', 'XP_029631723.1', 'XP_029631290.1', 'XP_029549792.1', 'XP_029549386.1', 'XP_029534158.1', 'XP_029540035.1', 'XP_029540003.1', 'XP_029509859.1', 'XP_029357578.1', 'XP_029287771.1', 'XP_020497810.1', 'XP_018612110.2', 'XP_029007620.1', 'TKS71754.1', 'TKS71686.1', 'TKS71329.1', 'NP_001281113.1', 'XP_028854844.1', 'XP_028853657.1', 'XP_028680573.1', 'XP_028431436.1', 'XP_028302657.1', 'TDH13978.1', 'XP_028261778.1', 'XP_027859794.1', 'XP_027859592.1', 'XP_027859591.1', 'RXN37352.1', 'RXN09164.1', 'RXN03804.1', 'RXM93943.1', 'RVE73399.1', 'RVE73137.1', 'AUV47224.1', 'XP_019119012.1', 'XP_019116329.1', 'XP_010731101.1', 'XP_027002080.1', 'ROL50785.1', 'ROL50733.1', 'XP_026118123.1', 'XP_026118120.1', 'XP_026116839.1', 'XP_026069199.1', 'XP_026068938.1', 'XP_026107920.1', 'XP_026023755.1', 'XP_003441492.1', 'CAA61050.1', 'AWP02876.1', 'AWP02692.1', 'AWK59748.1', 'XP_024915923.1', 'XP_024915922.1', 'XP_024915921.1', 'XP_024915920.1', 'XP_024915919.1', 'XP_024915918.1', 'XP_024915917.1', 'XP_016892293.1', 'XP_004544886.2', 'XP_024283482.1', 'XP_024283140.1', 'XP_024233113.1', 'XP_024233105.1', 'XP_024233095.1', 'XP_024233086.1', 'XP_024229801.1', 'XP_023852748.1', 'XP_023852424.1', 'XP_023846756.1', 'XP_023843281.1', 'XP_023810423.1', 'XP_023661236.1', 'XP_023265951.1', 'XP_023257499.1', 'XP_005799868.1', 'XP_005797061.1', 'XP_022601444.1', 'XP_007253326.1', 'XP_022047922.1', 'XP_005168828.1', 'XP_005166058.1', 'XP_020789748.1', 'XP_020463382.1', 'XP_019957096.1', 'XP_019942082.1', 'XP_019736991.1', 'XP_018921145.1', 'XP_018955413.1', 'XP_018941122.1', 'XP_018542081.1', 'XP_018536834.1', 'XP_017334635.1', 'XP_017334634.1', 'XP_017334633.1', 'XP_008408071.1', 'XP_008406955.1', 'XP_016526679.1', 'XP_016367739.1', 'XP_016367738.1', 'XP_016322543.1', 'XP_016314103.1', 'XP_016302024.1', 'XP_007570475.1', 'XP_007551189.1', 'XP_016119207.1', 'XP_016094407.1', 'XP_016126626.1', 'XP_015815306.1', 'XP_015814387.1', 'XP_015243817.1', 'XP_015202803.1', 'XP_006630737.1', 'KTG45133.1', 'KTG32992.1', 'KTF95028.1', 'XP_014906748.1', 'XP_014906747.1', 'XP_014852478.1', 'XP_014843779.1', 'XP_014892677.1', 'ALG00068.1', 'ALG00066.1', 'XP_005941155.1', 'XP_014023313.1', 'XP_014022557.1', 'XP_013988334.1', 'XP_013988191.1', 'XP_013864497.1', 'XP_013861711.1', 'XP_005741443.1', 'XP_010793557.1', 'CDQ63888.1', 'AFT65531.1', 'AFP20281.1', 'AFP20280.1', 'BAL70407.1', 'BAL45627.1', 'ACT83514.1', 'ACT83513.1', 'CAG06809.1']\n"
     ]
    }
   ],
   "source": [
    "## take out duplicate and get unique sequences\n",
    "unique_sequences =[]\n",
    "[unique_sequences.append(item) for item in sequences if item not in unique_sequences]\n",
    "print(\"ID of unique sequence: \")\n",
    "print(unique_sequences)"
   ]
  },
  {
   "cell_type": "code",
   "execution_count": 9,
   "metadata": {},
   "outputs": [],
   "source": [
    "### Script to take out all duplicates sequences and convert it into a new file with all unique sequences by ID\n",
    "original_file = gene_original_file\n",
    "corrected_file = unique_id_file\n",
    "with open(original_file) as original, open(corrected_file, 'w') as corrected:\n",
    "    records = SeqIO.parse(original_file, 'fasta')\n",
    "    for sequence in unique_sequences:\n",
    "        for record in records:\n",
    "            if (sequence == record.id):\n",
    "                SeqIO.write(record, corrected, 'fasta')\n",
    "                break"
   ]
  },
  {
   "cell_type": "code",
   "execution_count": 10,
   "metadata": {},
   "outputs": [],
   "source": [
    "sequences_unique_id = [] ## Store all sequences in the list\n",
    "with open(unique_id_file) as handle:\n",
    "    for record in SeqIO.parse(handle, \"fasta\"):\n",
    "        sequences_unique_id.append(record.description)"
   ]
  },
  {
   "cell_type": "code",
   "execution_count": 11,
   "metadata": {},
   "outputs": [],
   "source": [
    "def get_name (listI,listO):\n",
    "    for i in listI:\n",
    "        if \"[\" in i:\n",
    "            split_string = i.split(\"[\", 1)\n",
    "            substring = split_string[1]\n",
    "            split_string = substring.split(\"]\", 1)\n",
    "            substring = split_string[0]\n",
    "            listO.append(substring)"
   ]
  },
  {
   "cell_type": "code",
   "execution_count": 12,
   "metadata": {},
   "outputs": [],
   "source": [
    "sequence_species = []\n",
    "get_name(sequences_unique_id,sequence_species)"
   ]
  },
  {
   "cell_type": "code",
   "execution_count": 13,
   "metadata": {},
   "outputs": [
    {
     "name": "stdout",
     "output_type": "stream",
     "text": [
      "name of unique sequence: \n",
      "['Danio rerio', 'Oreochromis aureus', 'Kryptolebias marmoratus', 'Oncorhynchus mykiss', 'Fundulus heteroclitus', 'Sander lucioperca', 'Amphiprion ocellaris', 'Neolamprologus brichardi', 'Electrophorus electricus', 'Oryzias latipes', 'Pangasianodon hypophthalmus', 'Esox lucius', 'Gymnodraco acuticeps', 'Thalassophryne amazonica', 'Pseudochaenichthys georgianus', 'Trematomus bernacchii', 'Periophthalmus magnuspinnatus', 'Epinephelus lanceolatus', 'Larimichthys crocea', 'Onychostoma macrolepis', 'Ameiurus melas', 'Anabas testudineus', 'Stegastes partitus', 'Mastacembelus armatus', 'Dissostichus mawsoni', 'Channa argus', 'Xiphophorus hellerii', 'Etheostoma spectabile', 'Scophthalmus maximus', 'Anarrhichthys ocellatus', 'Oncorhynchus kisutch', 'Clupea harengus', 'Chanos chanos', 'Triplophysa tibetana', 'Archocentrus centrarchus', 'Sparus aurata', 'Gadus morhua', 'Takifugu flavidus', 'Sphaeramia orbicularis', 'Bagarius yarrelli', 'Salarias fasciatus', 'Myripristis murdjan', 'Danionella translucida', 'Takifugu rubripes', 'Salmo trutta', 'Oncorhynchus nerka', 'Echeneis naucrates', 'Cottoperca gobio', 'Labrus bergylta', 'Scleropages formosus', 'Betta splendens', 'Collichthys lucidus', 'Denticeps clupeoides', 'Erpetoichthys calabaricus', 'Perca flavescens', 'Gouania willdenowi', 'Parambassis ranga', 'Xiphophorus couchianus', 'Labeo rohita', 'Acipenser ruthenus', 'Oryzias javanicus', 'Anguilla marmorata', 'Tachysurus fulvidraco', 'Anabarilius grahami', 'Carassius auratus', 'Astatotilapia calliptera', 'Oreochromis niloticus', 'Catostomus commersonii', 'Monopterus albus', 'Cynoglossus semilaevis', 'Maylandia zebra', 'Oncorhynchus tshawytscha', 'Salvelinus alpinus', 'Paramormyrops kingsleyae', 'Seriola lalandi dorsalis', 'Xiphophorus maculatus', 'Seriola dumerili', 'Astyanax mexicanus', 'Acanthochromis polyacanthus', 'Boleophthalmus pectinirostris', 'Paralichthys olivaceus', 'Hippocampus comes', 'Cyprinus carpio', 'Lates calcarifer', 'Ictalurus punctatus', 'Poecilia reticulata', 'Poecilia formosa', 'Sinocyclocheilus rhinocerous', 'Sinocyclocheilus anshuiensis', 'Sinocyclocheilus grahami', 'Nothobranchius furzeri', 'Cyprinodon variegatus', 'Lepisosteus oculatus', 'Poecilia latipinna', 'Poecilia mexicana', 'Gasterosteus aculeatus', 'Tetraodon nigroviridis', 'Haplochromis burtoni', 'Salmo salar', 'Austrofundulus limnaeus', 'Pundamilia nyererei', 'Notothenia coriiceps', 'Herichthys cyanoguttatus']\n"
     ]
    }
   ],
   "source": [
    "unique_sequences_species = []\n",
    "[unique_sequences_species.append(item) for item in sequence_species if item not in unique_sequences_species]\n",
    "print(\"name of unique sequence: \")\n",
    "print(unique_sequences_species)"
   ]
  },
  {
   "cell_type": "code",
   "execution_count": 14,
   "metadata": {},
   "outputs": [],
   "source": [
    "### Script to take out all duplicates sequences and convert it into a new file with all unique sequences by name\n",
    "original_file = unique_id_file\n",
    "corrected_file = unique_file\n",
    "with open(original_file) as original, open(corrected_file, 'w') as corrected:\n",
    "    records = SeqIO.parse(original_file, 'fasta')\n",
    "    for sequence in unique_sequences_species:\n",
    "        for record in records:\n",
    "            if \"[\" in record.description:\n",
    "                split_string = record.description.split(\"[\", 1)\n",
    "                substring = split_string[1]\n",
    "                split_string = substring.split(\"]\", 1)\n",
    "                substring = split_string[0]\n",
    "            if (sequence == substring):\n",
    "                SeqIO.write(record, corrected, 'fasta')\n",
    "                break"
   ]
  },
  {
   "cell_type": "code",
   "execution_count": 15,
   "metadata": {},
   "outputs": [
    {
     "name": "stdout",
     "output_type": "stream",
     "text": [
      "The maximum length of the unique sequence by id:  947\n",
      "The numbers of the sequence:  103\n",
      "No duplicate, all sequences in the file are unique\n"
     ]
    }
   ],
   "source": [
    "## Check output \"unique_file\" sequence uniqueness\n",
    "file = unique_file\n",
    "maxlen = 0\n",
    "sequence_check = [] ## Store all sequences in the list\n",
    "total_sequence = 0 ## Counter for sequences\n",
    "with open(file) as handle:\n",
    "    for record in SeqIO.parse(handle, \"fasta\"):\n",
    "        sequence_check.append(record.id)\n",
    "        total_sequence = total_sequence + 1\n",
    "        if (maxlen < len(record.seq)):\n",
    "            maxlen = len(record.seq)\n",
    "print(\"The maximum length of the unique sequence by id: \",maxlen)\n",
    "print(\"The numbers of the sequence: \",total_sequence)\n",
    "if duplicate_check(sequence_check):\n",
    "    print(\"There are duplicates\")\n",
    "else:\n",
    "    print(\"No duplicate, all sequences in the file are unique\")"
   ]
  },
  {
   "cell_type": "code",
   "execution_count": 16,
   "metadata": {},
   "outputs": [],
   "source": [
    "sequences_from_unique_file = [] ## Store all sequences in the list\n",
    "with open(unique_file) as handle:\n",
    "    for record in SeqIO.parse(handle, \"fasta\"):\n",
    "        sequences_from_unique_file.append(record.description)"
   ]
  },
  {
   "cell_type": "code",
   "execution_count": 17,
   "metadata": {},
   "outputs": [],
   "source": [
    "#Take out predicted\n",
    "sequences_gene_name = []\n",
    "for i in sequences_from_unique_file:\n",
    "        if \"PREDICTED\" in i:\n",
    "            continue\n",
    "        else:\n",
    "            if gene_name in i:\n",
    "                split_string = i.split(\" \", 1)\n",
    "                substring = split_string[1]\n",
    "                split_string = substring.split(\"[\", 1)\n",
    "                substring = split_string[0]\n",
    "                if (len(substring) - len(gene_name) -1 == 0):\n",
    "                    sequences_gene_name.append(i)"
   ]
  },
  {
   "cell_type": "code",
   "execution_count": 18,
   "metadata": {},
   "outputs": [],
   "source": [
    "### Script to get the gene_name only file\n",
    "original_file = unique_file\n",
    "corrected_file = gene_name_only_file\n",
    "with open(original_file) as original, open(corrected_file, 'w') as corrected:\n",
    "    records = SeqIO.parse(original_file, 'fasta')\n",
    "    for sequence in sequences_gene_name:\n",
    "        for record in records:\n",
    "            if (sequence == record.description):\n",
    "                SeqIO.write(record, corrected, 'fasta')\n",
    "                break"
   ]
  },
  {
   "cell_type": "code",
   "execution_count": 19,
   "metadata": {},
   "outputs": [
    {
     "name": "stdout",
     "output_type": "stream",
     "text": [
      "The maximum length of the unique sequence by id:  432\n",
      "The numbers of the sequence:  34\n",
      "No duplicate, all sequences in the file are unique\n"
     ]
    }
   ],
   "source": [
    "## Check output \"gene_name_only_file\" sequence uniqueness\n",
    "file = gene_name_only_file\n",
    "maxlen = 0\n",
    "sequence_check = [] ## Store all sequences in the list\n",
    "total_sequence = 0 ## Counter for sequences\n",
    "with open(file) as handle:\n",
    "    for record in SeqIO.parse(handle, \"fasta\"):\n",
    "        sequence_check.append(record.id)\n",
    "        total_sequence = total_sequence + 1\n",
    "        if (maxlen < len(record.seq)):\n",
    "            maxlen = len(record.seq)\n",
    "print(\"The maximum length of the unique sequence by id: \",maxlen)\n",
    "print(\"The numbers of the sequence: \",total_sequence)\n",
    "\n",
    "if duplicate_check(sequence_check):\n",
    "    print(\"There are duplicates\")\n",
    "else:\n",
    "    print(\"No duplicate, all sequences in the file are unique\")"
   ]
  },
  {
   "cell_type": "code",
   "execution_count": 20,
   "metadata": {},
   "outputs": [],
   "source": [
    "## Take out sequence that longer than desier max length\n",
    "max_length = max_wanted_length\n",
    "original_file = gene_name_only_file\n",
    "corrected_file = under_max_length_sequence_file\n",
    "with open(original_file) as original, open(corrected_file, 'w') as corrected:\n",
    "    records = SeqIO.parse(original_file, 'fasta')\n",
    "    for record in records:\n",
    "        if (len(record.seq)<max_length):\n",
    "            SeqIO.write(record, corrected, 'fasta')"
   ]
  },
  {
   "cell_type": "code",
   "execution_count": 21,
   "metadata": {},
   "outputs": [
    {
     "name": "stdout",
     "output_type": "stream",
     "text": [
      "The maximum length of the unique sequence by id:  393\n",
      "The numbers of the sequence:  33\n",
      "No duplicate, all sequences in the file are unique\n"
     ]
    }
   ],
   "source": [
    "## Check output \"max_number_sequences_file\" sequence uniqueness\n",
    "file = under_max_length_sequence_file\n",
    "maxlen = 0\n",
    "sequence_check = [] ## Store all sequences in the list\n",
    "total_sequence = 0 ## Counter for sequences\n",
    "with open(file) as handle:\n",
    "    for record in SeqIO.parse(handle, \"fasta\"):\n",
    "        sequence_check.append(record.id)\n",
    "        total_sequence = total_sequence + 1\n",
    "        if (maxlen < len(record.seq)):\n",
    "            maxlen = len(record.seq)\n",
    "print(\"The maximum length of the unique sequence by id: \",maxlen)\n",
    "print(\"The numbers of the sequence: \",total_sequence)\n",
    "\n",
    "if duplicate_check(sequence_check):\n",
    "    print(\"There are duplicates\")\n",
    "else:\n",
    "    print(\"No duplicate, all sequences in the file are unique\")"
   ]
  },
  {
   "cell_type": "code",
   "execution_count": 22,
   "metadata": {},
   "outputs": [],
   "source": [
    "## Take only the wanted number of sequences:\n",
    "max_gene_count = max_number_sequences\n",
    "original_file = under_max_length_sequence_file\n",
    "corrected_file = max_number_sequences_file\n",
    "with open(original_file) as original, open(corrected_file, 'w') as corrected:\n",
    "    records = SeqIO.parse(original_file, 'fasta')\n",
    "    for record in records:\n",
    "        if (max_gene_count>0):\n",
    "            SeqIO.write(record, corrected, 'fasta')\n",
    "            max_gene_count = max_gene_count - 1\n",
    "        else: \n",
    "            break         "
   ]
  },
  {
   "cell_type": "code",
   "execution_count": 23,
   "metadata": {},
   "outputs": [
    {
     "name": "stdout",
     "output_type": "stream",
     "text": [
      "The maximum length of the unique sequence by id:  393\n",
      "The numbers of the sequence:  25\n",
      "No duplicate, all sequences in the file are unique\n"
     ]
    }
   ],
   "source": [
    "## Check final output file sequence uniqueness\n",
    "file = max_number_sequences_file\n",
    "maxlen = 0\n",
    "sequence_check = [] ## Store all sequences in the list\n",
    "total_sequence = 0 ## Counter for sequences\n",
    "with open(file) as handle:\n",
    "    for record in SeqIO.parse(handle, \"fasta\"):\n",
    "        sequence_check.append(record.id)\n",
    "        total_sequence = total_sequence + 1\n",
    "        if (maxlen < len(record.seq)):\n",
    "            maxlen = len(record.seq)\n",
    "print(\"The maximum length of the unique sequence by id: \",maxlen)\n",
    "print(\"The numbers of the sequence: \",total_sequence)\n",
    "\n",
    "if duplicate_check(sequence_check):\n",
    "    print(\"There are duplicates\")\n",
    "else:\n",
    "    print(\"No duplicate, all sequences in the file are unique\")"
   ]
  },
  {
   "cell_type": "code",
   "execution_count": 24,
   "metadata": {},
   "outputs": [],
   "source": [
    "##Remove unwanted files\n",
    "##Can comment to get the file\n",
    "import os\n",
    "os.remove(unique_id_file )\n",
    "os.remove(unique_file )\n",
    "os.remove(gene_name_only_file )\n",
    "os.remove(under_max_length_sequence_file)"
   ]
  }
 ],
 "metadata": {
  "kernelspec": {
   "display_name": "Python 3",
   "language": "python",
   "name": "python3"
  },
  "language_info": {
   "codemirror_mode": {
    "name": "ipython",
    "version": 3
   },
   "file_extension": ".py",
   "mimetype": "text/x-python",
   "name": "python",
   "nbconvert_exporter": "python",
   "pygments_lexer": "ipython3",
   "version": "3.8.5"
  }
 },
 "nbformat": 4,
 "nbformat_minor": 4
}
