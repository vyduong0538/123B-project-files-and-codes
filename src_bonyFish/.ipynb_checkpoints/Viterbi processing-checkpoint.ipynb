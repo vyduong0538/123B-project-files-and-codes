{
 "cells": [
  {
   "cell_type": "markdown",
   "metadata": {},
   "source": [
    "# Viterbi Processing"
   ]
  },
  {
   "cell_type": "markdown",
   "metadata": {},
   "source": [
    "#### Check log viterbi of the testing sets to see if it is in the range"
   ]
  },
  {
   "cell_type": "code",
   "execution_count": 1,
   "metadata": {},
   "outputs": [],
   "source": [
    "## Input:\n",
    "training_file = \"./bonyFish_viterbi_training\" ## input viterbi data from HMM\n",
    "testing_file = \"./bonyFish_viterbi_testing\" ## Test viterbi data from HMM\n",
    "\n",
    "## Output:\n",
    "log_viterbi_testing_file = \"./bonyFish_log_viterbi_testing.fasta\" ## Output the log viterbi of the testing file\n",
    "log_viterbi_testing_file_with_output = \"./bonyFish_log_viterbi_testing_out.fasta\"## Output the result"
   ]
  },
  {
   "cell_type": "markdown",
   "metadata": {},
   "source": [
    "## Support libraries"
   ]
  },
  {
   "cell_type": "code",
   "execution_count": 2,
   "metadata": {},
   "outputs": [],
   "source": [
    "#libs\n",
    "import pandas as pd\n",
    "from Bio import AlignIO\n",
    "from Bio import SeqIO\n",
    "from Bio import Phylo\n",
    "from sklearn.model_selection import train_test_split\n",
    "from bisect import bisect_left"
   ]
  },
  {
   "cell_type": "markdown",
   "metadata": {},
   "source": [
    "## Training set"
   ]
  },
  {
   "cell_type": "code",
   "execution_count": 3,
   "metadata": {},
   "outputs": [
    {
     "name": "stdout",
     "output_type": "stream",
     "text": [
      "Training size:  20\n"
     ]
    }
   ],
   "source": [
    "length_training = 0\n",
    "des = []\n",
    "with open(training_file) as handle:\n",
    "    for record in SeqIO.parse(handle, \"fasta\"):\n",
    "        des.append(record.description)\n",
    "        length_training = length_training + 1 \n",
    "print(\"Training size: \", length_training)"
   ]
  },
  {
   "cell_type": "code",
   "execution_count": 4,
   "metadata": {},
   "outputs": [],
   "source": [
    "scores_training = []\n",
    "for i in des:\n",
    "    split_string = i.split(\"=\", 1)\n",
    "    substring = split_string[1]\n",
    "    split_string = substring.split(\"_\", 1)\n",
    "    substring = split_string[0]\n",
    "    score = float(substring)\n",
    "    scores_training.append(score)"
   ]
  },
  {
   "cell_type": "code",
   "execution_count": 5,
   "metadata": {},
   "outputs": [
    {
     "data": {
      "text/plain": [
       "[-73.6105520177382,\n",
       " -84.92690956533501,\n",
       " -217.30760033867622,\n",
       " -78.22266231879902,\n",
       " -418.70785531728654,\n",
       " -73.6105520177382,\n",
       " -287.0834628185588,\n",
       " -95.51999429893145,\n",
       " -92.63791276230968,\n",
       " -230.5730549350164,\n",
       " -82.02659071501006,\n",
       " -380.0310040573463,\n",
       " -392.4571684762799,\n",
       " -73.60694789190055,\n",
       " -107.71673284312624,\n",
       " -75.84125644116058,\n",
       " -416.04164316809056,\n",
       " -81.30668680819508,\n",
       " -78.49867154508875,\n",
       " -101.92132305956717]"
      ]
     },
     "execution_count": 5,
     "metadata": {},
     "output_type": "execute_result"
    }
   ],
   "source": [
    "scores_training"
   ]
  },
  {
   "cell_type": "code",
   "execution_count": 6,
   "metadata": {},
   "outputs": [
    {
     "name": "stdout",
     "output_type": "stream",
     "text": [
      "Training sets viterbi\n",
      "Max Viterbi:  -73.60694789190055\n",
      "Min Viterbi:  -418.70785531728654\n"
     ]
    }
   ],
   "source": [
    "# find min max for training set\n",
    "maxViterbi = max(scores_training)\n",
    "maxViterbi\n",
    "minViterbi = min(scores_training)\n",
    "minViterbi\n",
    "print(\"Training sets viterbi\")\n",
    "print(\"Max Viterbi: \", maxViterbi)\n",
    "print(\"Min Viterbi: \", minViterbi)"
   ]
  },
  {
   "cell_type": "markdown",
   "metadata": {},
   "source": [
    "## Testing set"
   ]
  },
  {
   "cell_type": "code",
   "execution_count": 7,
   "metadata": {},
   "outputs": [
    {
     "name": "stdout",
     "output_type": "stream",
     "text": [
      "Testing size:  5\n"
     ]
    }
   ],
   "source": [
    "length_testing = 0\n",
    "des_testing = []\n",
    "with open(testing_file) as handle:\n",
    "    for record in SeqIO.parse(handle, \"fasta\"):\n",
    "        des_testing.append(record.description)\n",
    "        length_testing = length_testing + 1\n",
    "print(\"Testing size: \", length_testing)"
   ]
  },
  {
   "cell_type": "code",
   "execution_count": 8,
   "metadata": {},
   "outputs": [],
   "source": [
    "# Get score\n",
    "scores_testing = []\n",
    "for i in des_testing:\n",
    "    split_string = i.split(\"=\", 1)\n",
    "    substring = split_string[1]\n",
    "    split_string = substring.split(\"_\", 1)\n",
    "    substring = split_string[0]\n",
    "    score = float(substring)\n",
    "    scores_testing.append(score)"
   ]
  },
  {
   "cell_type": "code",
   "execution_count": 9,
   "metadata": {},
   "outputs": [
    {
     "data": {
      "text/plain": [
       "[-462.58235850212895,\n",
       " -103.97955074178653,\n",
       " -78.78796399513632,\n",
       " -87.15685326113591,\n",
       " -83.9925180293402]"
      ]
     },
     "execution_count": 9,
     "metadata": {},
     "output_type": "execute_result"
    }
   ],
   "source": [
    "scores_testing"
   ]
  },
  {
   "cell_type": "code",
   "execution_count": 10,
   "metadata": {},
   "outputs": [
    {
     "data": {
      "text/plain": [
       "['NP_001186299.1',\n",
       " 'NP_001243561.1',\n",
       " 'XP_033482864.1',\n",
       " 'XP_030277370.1',\n",
       " 'XP_028431436.1']"
      ]
     },
     "execution_count": 10,
     "metadata": {},
     "output_type": "execute_result"
    }
   ],
   "source": [
    "# Get name\n",
    "name_testing = []\n",
    "for i in des_testing:\n",
    "    split_string = i.split(\"__\", 1)\n",
    "    substring = split_string[1]\n",
    "    split_string = substring.split(\" \", 1)\n",
    "    substring = split_string[0]\n",
    "    name_testing.append(substring)\n",
    "name_testing"
   ]
  },
  {
   "cell_type": "code",
   "execution_count": 11,
   "metadata": {},
   "outputs": [],
   "source": [
    "#Convert X_test these into a fasta file script\n",
    "original_file = testing_file\n",
    "corrected_file = log_viterbi_testing_file\n",
    "with open(original_file) as original, open(corrected_file, 'w') as corrected:\n",
    "    records = SeqIO.parse(original_file, 'fasta')\n",
    "    for (record,score,name) in zip (records,scores_testing,name_testing):\n",
    "        record.id = name\n",
    "        record.description = str(score)\n",
    "        SeqIO.write(record, corrected, 'fasta')"
   ]
  },
  {
   "cell_type": "markdown",
   "metadata": {},
   "source": [
    "### Check the viterbi if it is in the range"
   ]
  },
  {
   "cell_type": "code",
   "execution_count": 12,
   "metadata": {},
   "outputs": [],
   "source": [
    "#helper function for viterbi check\n",
    "def check_viterbi(input,min,max):\n",
    "    if (input<min):\n",
    "        print(\"Less than min, not in range\")\n",
    "    elif (input>max):\n",
    "        print(\"More than man, not in range\")\n",
    "    else:\n",
    "        print(\"Within the Training Viterbi range\")"
   ]
  },
  {
   "cell_type": "code",
   "execution_count": 13,
   "metadata": {},
   "outputs": [
    {
     "name": "stdout",
     "output_type": "stream",
     "text": [
      "Viterbi range: min: -418.70785531728654  to max:  -73.60694789190055\n",
      "Sequence check:  NP_001186299.1\n",
      "Sequence viterbi score:  -462.58235850212895\n",
      "Less than min, not in range\n",
      "Sequence check:  NP_001243561.1\n",
      "Sequence viterbi score:  -103.97955074178653\n",
      "Within the Training Viterbi range\n",
      "Sequence check:  XP_033482864.1\n",
      "Sequence viterbi score:  -78.78796399513632\n",
      "Within the Training Viterbi range\n",
      "Sequence check:  XP_030277370.1\n",
      "Sequence viterbi score:  -87.15685326113591\n",
      "Within the Training Viterbi range\n",
      "Sequence check:  XP_028431436.1\n",
      "Sequence viterbi score:  -83.9925180293402\n",
      "Within the Training Viterbi range\n"
     ]
    }
   ],
   "source": [
    "#Check the viterbi if it is in the range\n",
    "print(\"Viterbi range: min:\", minViterbi, \" to max: \", maxViterbi)\n",
    "with open(log_viterbi_testing_file) as handle:\n",
    "    for record in SeqIO.parse(handle, \"fasta\"):\n",
    "        print(\"Sequence check: \", record.id)\n",
    "        split_string = record.description.split(\" \", 1)\n",
    "        viterbi_score = float(split_string[1])\n",
    "        print(\"Sequence viterbi score: \", viterbi_score)\n",
    "        check_viterbi(viterbi_score,minViterbi,maxViterbi)\n",
    "        des_testing.append(record.description)"
   ]
  },
  {
   "cell_type": "markdown",
   "metadata": {},
   "source": [
    "### Check Viterbi score of the testing file to see if it is in the Viterbi range of input file or not"
   ]
  },
  {
   "cell_type": "code",
   "execution_count": 14,
   "metadata": {},
   "outputs": [],
   "source": [
    "#helper function for viterbi check\n",
    "def check_viterbi_output(input,min,max):\n",
    "    if (input<min):\n",
    "        return False\n",
    "    elif (input>max):\n",
    "        return False\n",
    "    else:\n",
    "        return True"
   ]
  },
  {
   "cell_type": "code",
   "execution_count": 22,
   "metadata": {},
   "outputs": [
    {
     "name": "stdout",
     "output_type": "stream",
     "text": [
      "NP_001186299.1 -462.58235850212895 No\n",
      "NP_001243561.1 -103.97955074178653 Yes\n",
      "XP_033482864.1 -78.78796399513632 Yes\n",
      "XP_030277370.1 -87.15685326113591 Yes\n",
      "XP_028431436.1 -83.9925180293402 Yes\n"
     ]
    }
   ],
   "source": [
    "#Convert X_test these into a fasta file script\n",
    "original_file = log_viterbi_testing_file\n",
    "corrected_file = log_viterbi_testing_file_with_output\n",
    "with open(original_file) as original, open(corrected_file, 'w') as corrected:\n",
    "    records = SeqIO.parse(original_file, 'fasta')\n",
    "    for record in records:\n",
    "        split_string = record.description.split(\" \", 1)\n",
    "        viterbi_score = float(split_string[1])\n",
    "        if check_viterbi_output(viterbi_score,minViterbi,maxViterbi):\n",
    "            record.description = record.description + \" Yes\"\n",
    "            print(record.description)\n",
    "        else:\n",
    "            record.description = record.description + \" No\"\n",
    "            print(record.description)\n",
    "        SeqIO.write(record, corrected, 'fasta')"
   ]
  },
  {
   "cell_type": "code",
   "execution_count": 23,
   "metadata": {},
   "outputs": [],
   "source": [
    "## Clear unwanted file\n",
    "##Remove unwanted files\n",
    "##Can comment to get the file\n",
    "import os\n",
    "os.remove(log_viterbi_testing_file)"
   ]
  },
  {
   "cell_type": "code",
   "execution_count": null,
   "metadata": {},
   "outputs": [],
   "source": []
  }
 ],
 "metadata": {
  "kernelspec": {
   "display_name": "Python 3",
   "language": "python",
   "name": "python3"
  },
  "language_info": {
   "codemirror_mode": {
    "name": "ipython",
    "version": 3
   },
   "file_extension": ".py",
   "mimetype": "text/x-python",
   "name": "python",
   "nbconvert_exporter": "python",
   "pygments_lexer": "ipython3",
   "version": "3.8.5"
  }
 },
 "nbformat": 4,
 "nbformat_minor": 4
}
