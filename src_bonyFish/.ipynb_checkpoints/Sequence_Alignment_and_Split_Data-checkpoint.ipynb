{
 "cells": [
  {
   "cell_type": "markdown",
   "metadata": {},
   "source": [
    "# Sequence Alignment and Split data into training and testing"
   ]
  },
  {
   "cell_type": "code",
   "execution_count": 1,
   "metadata": {},
   "outputs": [],
   "source": [
    "## 1. Perform Sequence Alignment\n",
    "## 2. Check the sequence alignment with the sequence alignment from Clustal Omega -> Skipped in this file\n",
    "## 3. Split the set into training and testing set randomly with a ratio of 80:20"
   ]
  },
  {
   "cell_type": "code",
   "execution_count": 2,
   "metadata": {},
   "outputs": [],
   "source": [
    "## Input:\n",
    "gene_original_file = \"./OXTR_bonyFish_edited.fasta\" #Taken from Data Processing\n",
    "## Output:\n",
    "scale_file = \"./OXTR_bonyFish_scaled.fasta\" #Scale all sequences to the same length\n",
    "aligned_sequence_file =  \"./OXTR_bonyFish_aligned.fasta\" #Aligned sequence\n",
    "# aligned_sequence_clustal_omega_file = \"./OXTR_primate_co.fasta\" #Aligned sequence from Clustal Omega for checking\n",
    "train_file = \"./OXTR_bonyFish_train.fasta\" ## Training data\n",
    "test_file = \"./OXTR_bonyFish_test.fasta\" ## Testing data\n",
    "## Set default original file\n",
    "original_file = gene_original_file"
   ]
  },
  {
   "cell_type": "code",
   "execution_count": 3,
   "metadata": {},
   "outputs": [],
   "source": [
    "#libs\n",
    "import pandas as pd\n",
    "from Bio import AlignIO\n",
    "from Bio import SeqIO\n",
    "from Bio import Phylo\n",
    "from sklearn.model_selection import train_test_split\n",
    "from random import randrange"
   ]
  },
  {
   "cell_type": "markdown",
   "metadata": {},
   "source": [
    "## Scale data prior sequence alignment\n",
    "## All sequence will scale to the max sequence length and empty space are filled with -"
   ]
  },
  {
   "cell_type": "code",
   "execution_count": 4,
   "metadata": {},
   "outputs": [
    {
     "name": "stdout",
     "output_type": "stream",
     "text": [
      "Max sequence length:  393\n"
     ]
    }
   ],
   "source": [
    "maxlen = 0\n",
    "with open(original_file) as handle:\n",
    "    for record in SeqIO.parse(handle, \"fasta\"):\n",
    "        if (maxlen < len(record.seq)):\n",
    "            maxlen = len(record.seq)\n",
    "print(\"Max sequence length: \", maxlen)\n",
    "\n",
    "#Add creating correct_file code\n",
    "original_file = gene_original_file\n",
    "corrected_file = scale_file\n",
    "with open(original_file) as original, open(corrected_file, 'w') as corrected:\n",
    "    records = SeqIO.parse(original_file, 'fasta')\n",
    "    for record in records:\n",
    "        while (len(record.seq) < maxlen):\n",
    "            record.seq = record.seq + \"-\"\n",
    "        SeqIO.write(record, corrected, 'fasta')"
   ]
  },
  {
   "cell_type": "code",
   "execution_count": 5,
   "metadata": {},
   "outputs": [],
   "source": [
    "## Sequence Alignment\n",
    "alignment = AlignIO.read(open(scale_file), \"fasta\")"
   ]
  },
  {
   "cell_type": "code",
   "execution_count": 6,
   "metadata": {},
   "outputs": [],
   "source": [
    "## Output the alignment file\n",
    "            \n",
    "sequences = []\n",
    "for record in alignment:\n",
    "    sequences.append(record.seq)\n",
    "\n",
    "maxlen = 0\n",
    "total_sequence = 0\n",
    "with open(gene_original_file) as handle:\n",
    "    for record in SeqIO.parse(handle, \"fasta\"):\n",
    "        total_sequence = total_sequence + 1\n",
    "        if (maxlen < len(record.seq)):\n",
    "            maxlen = len(record.seq)\n",
    "\n",
    "original_file = scale_file\n",
    "corrected_file = aligned_sequence_file\n",
    "with open(original_file) as original, open(corrected_file, 'w') as corrected:\n",
    "    records = SeqIO.parse(original_file, 'fasta')\n",
    "    for record in records:\n",
    "        for align in alignment:\n",
    "            if (record.id == align.id ):\n",
    "                record.seq = align.seq\n",
    "        SeqIO.write(record, corrected, 'fasta')"
   ]
  },
  {
   "cell_type": "markdown",
   "metadata": {},
   "source": [
    "### Check alignment tools to make sure the program function correctly \n",
    "### with alignment of gene_original_file to ClustalOmega file"
   ]
  },
  {
   "cell_type": "code",
   "execution_count": 7,
   "metadata": {},
   "outputs": [],
   "source": [
    "## Skipped in this file since we already check it in the previous work\n",
    "# count_correct = total_sequence\n",
    "# control = 0\n",
    "# print(\"Number of total sequence check:\")\n",
    "# print(count_correct)\n",
    "# with open(aligned_sequence_clustal_omega_file) as handle:\n",
    "#     for record in SeqIO.parse(handle, \"fasta\"):\n",
    "#         print(\"Sequence id check:\")\n",
    "#         print(record.id)\n",
    "#         for alig in alignment:\n",
    "#             if ((record.seq == alig.seq) and (record.id == alig.id)):\n",
    "#                 count_correct = count_correct - 1\n",
    "#                 print(count_correct)\n",
    "#                 control = 1\n",
    "#                 break\n",
    "#         print(\"Result:\")\n",
    "#         if (control == 1):\n",
    "#             print(\"Matching!\")\n",
    "#         else:\n",
    "#             print(\"Not Matching!\")\n",
    "#         control = 0\n",
    "        \n",
    "# if (count_correct == 0):\n",
    "#     print(\"All of the alignment matched!\")\n",
    "# else:\n",
    "#     print(count_correct, \" of the alignment does not match\")"
   ]
  },
  {
   "cell_type": "code",
   "execution_count": 8,
   "metadata": {},
   "outputs": [
    {
     "name": "stdout",
     "output_type": "stream",
     "text": [
      "random seed:  38\n"
     ]
    }
   ],
   "source": [
    "#Split data code\n",
    "random = randrange(100) \n",
    "sequences_edit = []\n",
    "for record in alignment:\n",
    "    sequences_edit.append(record.id)\n",
    "\n",
    "X = sequences_edit\n",
    "X_train, X_test = train_test_split(X, test_size=0.2, random_state=random)\n",
    "print(\"random seed: \", random)"
   ]
  },
  {
   "cell_type": "code",
   "execution_count": 9,
   "metadata": {},
   "outputs": [
    {
     "name": "stdout",
     "output_type": "stream",
     "text": [
      "training data:\n",
      "ID: XP_031613004.1\n",
      "Name: XP_031613004.1\n",
      "Description: XP_031613004.1 oxytocin receptor [Oreochromis aureus]\n",
      "Number of features: 0\n",
      "Seq('MESISNESDIWQFNESWRNSSLINGTGGLNQTNPLKRNEEVARVEVTVLALVLF...STT')\n",
      "ID: XP_017271415.1\n",
      "Name: XP_017271415.1\n",
      "Description: XP_017271415.1 oxytocin receptor [Kryptolebias marmoratus]\n",
      "Number of features: 0\n",
      "Seq('MESVSGDGDMWPFNESWRNSSLLNGTADWNQTNPLKRNEEVAKVEVTVLALVLF...STT')\n",
      "ID: XP_012719163.1\n",
      "Name: XP_012719163.1\n",
      "Description: XP_012719163.1 oxytocin receptor [Fundulus heteroclitus]\n",
      "Number of features: 0\n",
      "Seq('METISNESDIWQLNEPWRNSTLLNGTIGVNQTNPLKRNEEVAKVEVTVLALVLF...---')\n",
      "ID: XP_031143641.1\n",
      "Name: XP_031143641.1\n",
      "Description: XP_031143641.1 oxytocin receptor [Sander lucioperca]\n",
      "Number of features: 0\n",
      "Seq('MESISNESEFWQVNESWQNPSLVNGTGLLNQTNPLKRNEEVAKVEVTVLALVLF...STT')\n",
      "ID: XP_023136471.1\n",
      "Name: XP_023136471.1\n",
      "Description: XP_023136471.1 oxytocin receptor [Amphiprion ocellaris]\n",
      "Number of features: 0\n",
      "Seq('MESTSSLINGTGGLNQTNPLKRNEEVAKVEVTVLALVLFLALAGNLCVLLAIHT...---')\n",
      "ID: XP_006806769.1\n",
      "Name: XP_006806769.1\n",
      "Description: XP_006806769.1 oxytocin receptor [Neolamprologus brichardi]\n",
      "Number of features: 0\n",
      "Seq('MESISNESDIWQFNESWRNSSLINGTGGLNQTNPLKRNEEVARVEVTVLALVLF...STT')\n",
      "ID: XP_026853410.1\n",
      "Name: XP_026853410.1\n",
      "Description: XP_026853410.1 oxytocin receptor [Electrophorus electricus]\n",
      "Number of features: 0\n",
      "Seq('MEELFKDQYFLSFNDSWKNSTLGNETDRLNQTVNPLKRNEEVAKVEVAVLALIL...T--')\n",
      "ID: XP_033939362.1\n",
      "Name: XP_033939362.1\n",
      "Description: XP_033939362.1 oxytocin receptor [Pseudochaenichthys georgianus]\n",
      "Number of features: 0\n",
      "Seq('MESISNESDFWQFNDSLRNSSIVNGTGLLNKTNPLTRDEEVAKVEVTVLALVLF...---')\n",
      "ID: XP_033994521.1\n",
      "Name: XP_033994521.1\n",
      "Description: XP_033994521.1 oxytocin receptor [Trematomus bernacchii]\n",
      "Number of features: 0\n",
      "Seq('MESISNESDFWQVNDSWRNSSIVNGTGLLNKTNPLKRNEEVAKVEVTVLALVLF...---')\n",
      "ID: XP_033822329.1\n",
      "Name: XP_033822329.1\n",
      "Description: XP_033822329.1 oxytocin receptor [Periophthalmus magnuspinnatus]\n",
      "Number of features: 0\n",
      "Seq('MESVFNDSDLWQLNDTWRISSLSNGTGSLNQTNPLKRNEEVAKVEVTVLALVLF...---')\n",
      "ID: XP_026205203.1\n",
      "Name: XP_026205203.1\n",
      "Description: XP_026205203.1 oxytocin receptor [Anabas testudineus]\n",
      "Number of features: 0\n",
      "Seq('MESISNESDFWQFNESWRNSSLLNGTGGFNQTNPLKRNEEVAKVEVTVLALVLF...STA')\n",
      "ID: XP_032370324.1\n",
      "Name: XP_032370324.1\n",
      "Description: XP_032370324.1 oxytocin receptor [Etheostoma spectabile]\n",
      "Number of features: 0\n",
      "Seq('MESSNEREFWQFNESWQNPSLVNGTGLLNQTNPLKRNEEVAKVEVTVLALVLFL...TT-')\n",
      "ID: XP_031424296.1\n",
      "Name: XP_031424296.1\n",
      "Description: XP_031424296.1 oxytocin receptor [Clupea harengus]\n",
      "Number of features: 0\n",
      "Seq('MEDILNDFWSVNETWKNASFSNATEAGNHTVNPLKRNEEAAKVEVAVLALVLFL...---')\n",
      "ID: XP_030585847.1\n",
      "Name: XP_030585847.1\n",
      "Description: XP_030585847.1 oxytocin receptor [Archocentrus centrarchus]\n",
      "Number of features: 0\n",
      "Seq('MESISNESDIWQFNESWRNSSLINGTGGSNQTNPLKRNEEVARVEVTVLALVLF...STT')\n",
      "ID: XP_030230454.1\n",
      "Name: XP_030230454.1\n",
      "Description: XP_030230454.1 oxytocin receptor [Gadus morhua]\n",
      "Number of features: 0\n",
      "Seq('MELTSNDSDFWQFNETWRNSSLGHVAPKLNQTNPLKRNEEVAKVEVTVLALVLL...SNT')\n",
      "ID: XP_029991255.1\n",
      "Name: XP_029991255.1\n",
      "Description: XP_029991255.1 oxytocin receptor [Sphaeramia orbicularis]\n",
      "Number of features: 0\n",
      "Seq('MESILNESDFWQFNESWRNSSFINGTGGFNQTNPLKRNEEVAKVEVTVLALVLF...SST')\n",
      "ID: XP_029948462.1\n",
      "Name: XP_029948462.1\n",
      "Description: XP_029948462.1 oxytocin receptor [Salarias fasciatus]\n",
      "Number of features: 0\n",
      "Seq('MESLLNESDIWQLNSSLANETGGLNRTNPLKRNEEVAKVEVTVLALVLLLALAG...---')\n",
      "ID: XP_029357578.1\n",
      "Name: XP_029357578.1\n",
      "Description: XP_029357578.1 oxytocin receptor [Echeneis naucrates]\n",
      "Number of features: 0\n",
      "Seq('MERVTNESDFWQFNDSWRNSTLLNATGGPNQTNPLKRNEEVAKVEVTVLALVLF...STT')\n",
      "ID: XP_020497810.1\n",
      "Name: XP_020497810.1\n",
      "Description: XP_020497810.1 oxytocin receptor [Labrus bergylta]\n",
      "Number of features: 0\n",
      "Seq('MESISNESDFWQFNETCRNSNLLNGTGLLNQTNPLKRNEEVAKVEVTVLALVLF...SST')\n",
      "ID: XP_028302657.1\n",
      "Name: XP_028302657.1\n",
      "Description: XP_028302657.1 oxytocin receptor [Gouania willdenowi]\n",
      "Number of features: 0\n",
      "Seq('MERMLNESDIWQFNDSWMNSSAINQSSPLNQSNPLKRNEEVAKVEVTVLGLVLL...SST')\n"
     ]
    }
   ],
   "source": [
    "#Convert X_train these into a fasta file script\n",
    "print(\"training data:\")\n",
    "check =[]\n",
    "original_file = aligned_sequence_file\n",
    "corrected_file = train_file\n",
    "with open(original_file) as original, open(corrected_file, 'w') as corrected:\n",
    "    records = SeqIO.parse(original_file, 'fasta')\n",
    "    for record in records:\n",
    "        for align in X_train:\n",
    "            if (record.id == align):\n",
    "                SeqIO.write(record, corrected, 'fasta')\n",
    "                check.append(record)\n",
    "                print(record)\n",
    "                break               "
   ]
  },
  {
   "cell_type": "code",
   "execution_count": 10,
   "metadata": {},
   "outputs": [
    {
     "name": "stdout",
     "output_type": "stream",
     "text": [
      "testing data:\n",
      "ID: NP_001186299.1\n",
      "Name: NP_001186299.1\n",
      "Description: NP_001186299.1 oxytocin receptor [Danio rerio]\n",
      "Number of features: 0\n",
      "Seq('MEDIFKDQDFWSFNESSRNATNETYGVNQTVNPLKRNEEVAKVEVTVLALVLFL...---')\n",
      "ID: NP_001243561.1\n",
      "Name: NP_001243561.1\n",
      "Description: NP_001243561.1 oxytocin receptor [Oryzias latipes]\n",
      "Number of features: 0\n",
      "Seq('MEIISNESEIWQFNGSWRNSSLGNGTGALNQTNPLKRNEEVAKVEVTVLALVLF...STT')\n",
      "ID: XP_033482864.1\n",
      "Name: XP_033482864.1\n",
      "Description: XP_033482864.1 oxytocin receptor [Epinephelus lanceolatus]\n",
      "Number of features: 0\n",
      "Seq('MESISNDSDFWQFNESWRNSSLGNGTNWLNQTNPLKRNEEVAKVEVTVLALVLF...STT')\n",
      "ID: XP_030277370.1\n",
      "Name: XP_030277370.1\n",
      "Description: XP_030277370.1 oxytocin receptor [Sparus aurata]\n",
      "Number of features: 0\n",
      "Seq('MESVSNESDFWQSNESWRNSSLVNGTGWLNQTNPLKRNEEVAKVEVTVLALVLF...STT')\n",
      "ID: XP_028431436.1\n",
      "Name: XP_028431436.1\n",
      "Description: XP_028431436.1 oxytocin receptor [Perca flavescens]\n",
      "Number of features: 0\n",
      "Seq('MESISNKSEFWQFNESWQNPSLINGTGLLNQTNPLKRNEEVAKVEVTVLALVLF...STT')\n"
     ]
    }
   ],
   "source": [
    "#Convert X_test these into a fasta file script\n",
    "print(\"testing data:\")\n",
    "check =[]\n",
    "original_file = aligned_sequence_file\n",
    "corrected_file = test_file\n",
    "with open(original_file) as original, open(corrected_file, 'w') as corrected:\n",
    "    records = SeqIO.parse(original_file, 'fasta')\n",
    "    for record in records:\n",
    "        for align in X_test:\n",
    "            if (record.id == align):\n",
    "                SeqIO.write(record, corrected, 'fasta')\n",
    "                check.append(record)\n",
    "                print(record)\n",
    "                break          "
   ]
  },
  {
   "cell_type": "code",
   "execution_count": 11,
   "metadata": {},
   "outputs": [],
   "source": [
    "##Remove unwanted files\n",
    "##Can comment to get the file\n",
    "import os\n",
    "os.remove(scale_file)"
   ]
  }
 ],
 "metadata": {
  "kernelspec": {
   "display_name": "Python 3",
   "language": "python",
   "name": "python3"
  },
  "language_info": {
   "codemirror_mode": {
    "name": "ipython",
    "version": 3
   },
   "file_extension": ".py",
   "mimetype": "text/x-python",
   "name": "python",
   "nbconvert_exporter": "python",
   "pygments_lexer": "ipython3",
   "version": "3.8.5"
  }
 },
 "nbformat": 4,
 "nbformat_minor": 4
}
