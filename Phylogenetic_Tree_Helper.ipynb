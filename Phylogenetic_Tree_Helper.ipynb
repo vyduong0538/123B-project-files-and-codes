{
 "cells": [
  {
   "cell_type": "markdown",
   "metadata": {},
   "source": [
    "# Phylogenetic Tree Helper"
   ]
  },
  {
   "cell_type": "code",
   "execution_count": 1,
   "metadata": {},
   "outputs": [],
   "source": [
    "## 1. The code edits the sequence id so that the user can view \n",
    "## the sequence species name as well as the group name when they \n",
    "## construct the phylogenetic tree on Clustal Omega website"
   ]
  },
  {
   "cell_type": "code",
   "execution_count": 2,
   "metadata": {},
   "outputs": [],
   "source": [
    "gene_original_file = \"./main.fasta\" # Input sequences\n",
    "output_file = \"./main_edited.fasta\" # output sequences with "
   ]
  },
  {
   "cell_type": "code",
   "execution_count": 3,
   "metadata": {},
   "outputs": [],
   "source": [
    "#libs\n",
    "from Bio import SeqIO"
   ]
  },
  {
   "cell_type": "code",
   "execution_count": 4,
   "metadata": {},
   "outputs": [],
   "source": [
    "original_file = gene_original_file\n",
    "corrected_file = output_file\n",
    "count = 1\n",
    "with open(original_file) as original, open(corrected_file, 'w') as corrected:\n",
    "    records = SeqIO.parse(original_file, 'fasta')\n",
    "    for record in records:\n",
    "        if \"[\" in record.description:\n",
    "                split_string = record.description.split(\"[\", 1)\n",
    "                substring = split_string[1]\n",
    "                split_string = substring.split(\"]\", 1)\n",
    "                substring = split_string[0]\n",
    "                split_string = substring.split(\" \", 1)\n",
    "                substring1 = split_string[0]\n",
    "                substring2 = split_string[1]\n",
    "                substring = substring1 + \"_\" + substring2\n",
    "        if (count <= 25):\n",
    "            record.id = record.id + \"_\" + substring + \"_bonyFish\"\n",
    "        else:\n",
    "            record.id = record.id + \"_\" + substring + \"_primate\"\n",
    "        count = count + 1\n",
    "        SeqIO.write(record, corrected, 'fasta')"
   ]
  }
 ],
 "metadata": {
  "kernelspec": {
   "display_name": "Python 3",
   "language": "python",
   "name": "python3"
  },
  "language_info": {
   "codemirror_mode": {
    "name": "ipython",
    "version": 3
   },
   "file_extension": ".py",
   "mimetype": "text/x-python",
   "name": "python",
   "nbconvert_exporter": "python",
   "pygments_lexer": "ipython3",
   "version": "3.8.5"
  }
 },
 "nbformat": 4,
 "nbformat_minor": 4
}
